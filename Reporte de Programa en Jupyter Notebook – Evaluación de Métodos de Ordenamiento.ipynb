{
 "cells": [
  {
   "cell_type": "markdown",
   "id": "df5c7510-10de-44be-aad5-ea3e1f4a64d9",
   "metadata": {},
   "source": [
    "# Evaluación de Métodos de Ordenamiento: Burbuja vs. QuickSort\n",
    "## Elaborado por Gabriel Carrizales\n",
    "#### 10/02/2025\n",
    "\n",
    "## Introducción  \n",
    "El ordenamiento de datos es una operación fundamental en el ámbito de la informática, utilizada en una gran variedad de aplicaciones, desde bases de datos hasta algoritmos de búsqueda. En esta práctica, se evaluarán dos de los algoritmos de ordenamiento más conocidos: el Método Burbuja y QuickSort. El propósito de esta evaluación es comparar su eficiencia mediante la medición de los tiempos de ejecución al ordenar listas de diferentes tamaños. A través de este análisis, se busca comprender mejor cómo la elección del algoritmo adecuado puede impactar el rendimiento, especialmente en entornos donde la eficiencia es crucial, como en sistemas de robótica e inteligencia artificial, donde el procesamiento rápido de grandes volúmenes de datos es esencial para el funcionamiento de los sistemas.\n",
    "\n",
    "En esta práctica, implementamos y evaluamos dos algoritmos de ordenamiento en Python:  \n",
    "- **Método Burbuja** \n",
    "- **QuickSort**  \n",
    "\n",
    "El objetivo es comparar su rendimiento mediante la medición de tiempos de ejecución con listas de diferentes tamaños.  \n",
    "Esta evaluación es importante porque el ordenamiento de datos es una tarea fundamental en el desarrollo de software, especialmente en aplicaciones donde la eficiencia es clave, como en robótica e inteligencia artificial.  \n"
   ]
  },
  {
   "cell_type": "markdown",
   "id": "0c2eb04c-4037-4f6f-a7ed-b63ed408426e",
   "metadata": {},
   "source": [
    "1. **Burbuja**: Es un algoritmo de ordenamiento sencillo, pero bastante ineficiente, especialmente cuando se tiene una gran cantidad de datos. En el peor de los casos, requiere que se realicen muchas comparaciones y reordenamientos, lo que hace que el tiempo de ejecución crezca de manera significativa a medida que aumenta el número de elementos a ordenar. La complejidad de este algoritmo es **O(n²)**, donde **n** es el número de elementos a ordenar.\n",
    "\n",
    "2. **QuickSort**: Este algoritmo es mucho más eficiente en comparación con el anterior. En la mayoría de los casos, realiza el ordenamiento de forma rápida al dividir el conjunto de datos en partes más pequeñas, lo que permite ordenarlas de manera más ágil. Es mucho más adecuado para grandes volúmenes de datos, ya que, en promedio, tarda mucho menos tiempo que otros métodos. Su complejidad promedio es **O(n log n)**, lo que significa que puede manejar grandes cantidades de datos de forma mucho más eficiente que otros algoritmos de ordenamiento."
   ]
  },
  {
   "cell_type": "code",
   "execution_count": 3,
   "id": "be0ff2af-b75a-414a-8744-883ff7d56dce",
   "metadata": {},
   "outputs": [
    {
     "name": "stdout",
     "output_type": "stream",
     "text": [
      "Comparación de tiempos de ejecución:\n",
      "\n",
      "Tamaño de la lista: 1000\n",
      "Método Burbuja: 0.247848 segundos\n",
      "QuickSort: 0.002999 segundos\n",
      "\n",
      "Tamaño de la lista: 5000\n",
      "Método Burbuja: 3.880609 segundos\n",
      "QuickSort: 0.018987 segundos\n",
      "\n",
      "Tamaño de la lista: 10000\n",
      "Método Burbuja: 13.599612 segundos\n",
      "QuickSort: 0.045970 segundos\n"
     ]
    }
   ],
   "source": [
    "import time\n",
    "import random\n",
    "\n",
    "def metodo_burbuja(lista):\n",
    "    \"\"\"Implementación del método de ordenamiento Burbuja.\"\"\"\n",
    "    n = len(lista)\n",
    "    for i in range(n):\n",
    "        for j in range(0, n - i - 1):\n",
    "            if lista[j] > lista[j + 1]:\n",
    "                lista[j], lista[j + 1] = lista[j + 1], lista[j]\n",
    "    return lista\n",
    "\n",
    "def quick_sort(lista):\n",
    "    \"\"\"Implementación del método de ordenamiento QuickSort.\"\"\"\n",
    "    if len(lista) < 2:\n",
    "        return lista\n",
    "    else:\n",
    "        pivote = lista[-1]\n",
    "        menores = [x for x in lista[:-1] if x < pivote]\n",
    "        mayores = [x for x in lista[:-1] if x >= pivote]\n",
    "        return quick_sort(menores) + [pivote] + quick_sort(mayores)\n",
    "\n",
    "def medir_tiempo(algoritmo, lista):\n",
    "    \"\"\"Mide el tiempo de ejecución de un algoritmo de ordenamiento.\"\"\"\n",
    "    inicio = time.time()\n",
    "    resultado = algoritmo(lista.copy())  # Copia la lista para evitar modificarla\n",
    "    fin = time.time()\n",
    "    return fin - inicio\n",
    "\n",
    "# Generar listas de prueba de diferentes tamaños\n",
    "tamaños = [1000, 5000, 10000]\n",
    "resultados = {}\n",
    "\n",
    "for n in tamaños:\n",
    "    lista_prueba = [random.randint(0, 10000) for _ in range(n)]\n",
    "    tiempo_burbuja = medir_tiempo(metodo_burbuja, lista_prueba)\n",
    "    tiempo_quick = medir_tiempo(quick_sort, lista_prueba)\n",
    "    \n",
    "    resultados[n] = {\n",
    "        \"Burbuja\": tiempo_burbuja,\n",
    "        \"QuickSort\": tiempo_quick\n",
    "    }\n",
    "\n",
    "# Imprimir resultados\n",
    "print(\"Comparación de tiempos de ejecución:\")\n",
    "for tamaño, tiempos in resultados.items():\n",
    "    print(f\"\\nTamaño de la lista: {tamaño}\")\n",
    "    print(f\"Método Burbuja: {tiempos['Burbuja']:.6f} segundos\")\n",
    "    print(f\"QuickSort: {tiempos['QuickSort']:.6f} segundos\")\n"
   ]
  },
  {
   "cell_type": "markdown",
   "id": "425a3e4d-ce6d-4262-8498-9966ecf6b66b",
   "metadata": {},
   "source": [
    "## Pruebas de Rendimiento  \n",
    "\n",
    "Se generaron listas de prueba de tamaños: **1000, 5000 y 10,000 elementos**.  \n",
    "Cada algoritmo fue ejecutado y se midió su tiempo de ejecución utilizando la función `time()`.  \n"
   ]
  },
  {
   "cell_type": "markdown",
   "id": "6388d6d4-6a2c-4e67-879f-f2e90809feec",
   "metadata": {},
   "source": [
    "## Resultados y Análisis  \n",
    "\n",
    "Los tiempos de ejecución obtenidos fueron los siguientes:\n",
    "\n",
    "| Tamaño de la Lista | Método Burbuja (seg) | QuickSort (seg) |\n",
    "|--------------------|--------------------|-----------------|\n",
    "| 1000 elementos    | 0.2478             | 0.0029          |\n",
    "| 5000 elementos    | 3.8806             | 0.0189          |\n",
    "| 10,000 elementos  | 13.5996            | 0.0459          |\n",
    "\n",
    "### **Análisis**  \n",
    "- **Burbuja es ineficiente**: A medida que aumenta el tamaño de la lista, el tiempo de ejecución crece de forma cuadrática.  \n",
    "- **QuickSort es mucho más rápido**, incluso con 10,000 elementos.  \n",
    "- Esto confirma que **QuickSort es la mejor opción para grandes volúmenes de datos**.  \n"
   ]
  },
  {
   "cell_type": "markdown",
   "id": "6d8ce6f7-0035-49a8-b54c-1f592cea6151",
   "metadata": {},
   "source": [
    "## Conclusiones  \n",
    "\n",
    "QuickSort es significativamente más eficiente que el método Burbuja, especialmente cuando se trabaja con listas grandes, mientras que el método Burbuja solo resulta útil para listas pequeñas o con fines educativos. Este análisis destaca la importancia de elegir el algoritmo adecuado según el tamaño y la complejidad del problema, asegurando un rendimiento óptimo. Además, el uso de herramientas como Jupyter Notebook y GitHub se vuelve fundamental para documentar, organizar y compartir código de manera profesional, facilitando el trabajo colaborativo y la revisión de proyectos."
   ]
  }
 ],
 "metadata": {
  "kernelspec": {
   "display_name": "Python 3 (ipykernel)",
   "language": "python",
   "name": "python3"
  },
  "language_info": {
   "codemirror_mode": {
    "name": "ipython",
    "version": 3
   },
   "file_extension": ".py",
   "mimetype": "text/x-python",
   "name": "python",
   "nbconvert_exporter": "python",
   "pygments_lexer": "ipython3",
   "version": "3.12.7"
  }
 },
 "nbformat": 4,
 "nbformat_minor": 5
}
